{
 "cells": [
  {
   "cell_type": "code",
   "execution_count": 1,
   "id": "a5eb222e-928c-460a-bd72-54c33a933203",
   "metadata": {},
   "outputs": [],
   "source": [
    "import pandas as pd\n",
    "import time\n",
    "from selenium import webdriver\n",
    "from webdriver_manager.chrome import ChromeDriverManager"
   ]
  },
  {
   "cell_type": "markdown",
   "id": "d2d8a200-e4ea-47e6-90fd-bdfc46296d66",
   "metadata": {},
   "source": [
    "## Create driver"
   ]
  },
  {
   "cell_type": "code",
   "execution_count": 2,
   "id": "a9eb0055-c812-403c-bb2a-64a5be550918",
   "metadata": {},
   "outputs": [
    {
     "name": "stderr",
     "output_type": "stream",
     "text": [
      "[WDM] - Downloading: 100%|█████████████████████████████████████████████████████| 6.79M/6.79M [00:00<00:00, 9.47MB/s]\n",
      "C:\\Users\\xyux2\\AppData\\Local\\Temp\\ipykernel_14404\\1503906442.py:1: DeprecationWarning: executable_path has been deprecated, please pass in a Service object\n",
      "  driver = webdriver.Chrome(ChromeDriverManager().install())\n"
     ]
    }
   ],
   "source": [
    "driver = webdriver.Chrome(ChromeDriverManager().install())"
   ]
  },
  {
   "cell_type": "markdown",
   "id": "cf170806-13d9-4ccf-b847-9c24075853ff",
   "metadata": {},
   "source": [
    "## Finding the books"
   ]
  },
  {
   "cell_type": "code",
   "execution_count": 10,
   "id": "35fe8d2d-75c3-4b21-8a4f-ec4cdcd04636",
   "metadata": {},
   "outputs": [],
   "source": [
    "page_url = \"https://witcher.fandom.com/wiki/Category:Characters_in_the_stories\"\n",
    "driver.get(page_url)"
   ]
  },
  {
   "cell_type": "code",
   "execution_count": 12,
   "id": "c11ba690-9df7-4269-89a3-c3f781bf2e66",
   "metadata": {},
   "outputs": [],
   "source": [
    "from selenium.webdriver.common.by import By\n",
    "\n",
    "driver.find_element(By.XPATH, '//div[text()=\"ACEITAR\"]').click()"
   ]
  },
  {
   "cell_type": "code",
   "execution_count": 21,
   "id": "acacc9f5-9c60-4c92-a18e-70737d4ad4d1",
   "metadata": {},
   "outputs": [],
   "source": [
    "book_categories = driver.find_elements(By.CLASS_NAME,value = 'category-page__member-link')"
   ]
  },
  {
   "cell_type": "code",
   "execution_count": 23,
   "id": "645d50c7-3da9-4907-a7e1-e04c0a1f5118",
   "metadata": {},
   "outputs": [
    {
     "data": {
      "text/plain": [
       "'https://witcher.fandom.com/wiki/Category:Baptism_of_Fire_characters'"
      ]
     },
     "execution_count": 23,
     "metadata": {},
     "output_type": "execute_result"
    }
   ],
   "source": [
    "#book_categories[0].text\n",
    "#book_categories[0].get_attribute('href')"
   ]
  },
  {
   "cell_type": "code",
   "execution_count": 25,
   "id": "130e0d7b-8663-41ee-b549-79530a23b485",
   "metadata": {},
   "outputs": [],
   "source": [
    "driver.get(book_categories[0].get_attribute('href'))"
   ]
  },
  {
   "cell_type": "code",
   "execution_count": 26,
   "id": "e486b1ed-edf4-41b8-a1b8-83db81dbdba9",
   "metadata": {},
   "outputs": [],
   "source": [
    "character_elems = driver.find_elements(By.CLASS_NAME,value = 'category-page__member-link')"
   ]
  },
  {
   "cell_type": "code",
   "execution_count": 27,
   "id": "37009b65-e418-4e87-aa7e-517f207db63c",
   "metadata": {},
   "outputs": [
    {
     "data": {
      "text/plain": [
       "'Adalia'"
      ]
     },
     "execution_count": 27,
     "metadata": {},
     "output_type": "execute_result"
    }
   ],
   "source": [
    "#character_elems[0].text"
   ]
  },
  {
   "cell_type": "markdown",
   "id": "6da138b0-bc52-4cba-8bfe-78da36a8d58f",
   "metadata": {},
   "source": [
    "## Imports"
   ]
  },
  {
   "cell_type": "code",
   "execution_count": null,
   "id": "60ce734b-95ca-47f4-a1ab-dd3363f7c01d",
   "metadata": {},
   "outputs": [],
   "source": [
    "import matplotlib.pyplot as plt"
   ]
  },
  {
   "cell_type": "markdown",
   "id": "fc3c3e67-0bd6-416c-af44-48905c5271de",
   "metadata": {},
   "source": [
    "## Full Code"
   ]
  },
  {
   "cell_type": "code",
   "execution_count": 28,
   "id": "b53a77af-dab3-4a47-ac0a-75184a093017",
   "metadata": {},
   "outputs": [
    {
     "name": "stderr",
     "output_type": "stream",
     "text": [
      "C:\\Users\\xyux2\\AppData\\Local\\Temp\\ipykernel_14404\\2405396281.py:2: DeprecationWarning: executable_path has been deprecated, please pass in a Service object\n",
      "  driver = webdriver.Chrome(ChromeDriverManager().install())\n"
     ]
    }
   ],
   "source": [
    "#Create driver\n",
    "driver = webdriver.Chrome(ChromeDriverManager().install())\n",
    "\n",
    "#Go to the characters in books page\n",
    "page_url = \"https://witcher.fandom.com/wiki/Category:Characters_in_the_stories\"\n",
    "driver.get(page_url)\n",
    "\n",
    "#Click on Accept ('Aceitar' in portuguese)\n",
    "time.sleep(3) #wait to render all elements\n",
    "driver.find_element(By.XPATH, '//div[text()=\"ACEITAR\"]').click()\n",
    "\n",
    "#Find books\n",
    "book_categories = driver.find_elements(By.CLASS_NAME,value = 'category-page__member-link')\n",
    "\n",
    "books = []\n",
    "for category in book_categories:\n",
    "    book_url = category.get_attribute('href')\n",
    "    book_name = category.text\n",
    "    books.append({'book_name':book_name,'url':book_url})"
   ]
  },
  {
   "cell_type": "code",
   "execution_count": null,
   "id": "a6724553-513d-4e8d-bdf0-f7222626847a",
   "metadata": {},
   "outputs": [],
   "source": [
    "character_list = []\n",
    "\n",
    "for book in books:\n",
    "    #go to book page\n",
    "    driver.get(book['url'])\n",
    "    character_elems = driver.find_elements(By.CLASS_NAME,value = 'category-page__member-link')\n",
    "    \n",
    "    for elem in character_elems:\n",
    "        character_list.append({'book':book['book_name'],'character':elem.text})"
   ]
  },
  {
   "cell_type": "code",
   "execution_count": null,
   "id": "bafa4196-45f5-46e4-92a7-a16e2599caa0",
   "metadata": {},
   "outputs": [],
   "source": [
    "character_df = pd.DataFrame(characters_list)\n",
    "character_df.head()"
   ]
  },
  {
   "cell_type": "code",
   "execution_count": null,
   "id": "ce2d4568-ace1-4b2a-8448-d66aa0d872fe",
   "metadata": {},
   "outputs": [],
   "source": [
    "character_df['book'].value_counts().plot(kind=\"bar\")"
   ]
  }
 ],
 "metadata": {
  "kernelspec": {
   "display_name": "Python 3 (ipykernel)",
   "language": "python",
   "name": "python3"
  },
  "language_info": {
   "codemirror_mode": {
    "name": "ipython",
    "version": 3
   },
   "file_extension": ".py",
   "mimetype": "text/x-python",
   "name": "python",
   "nbconvert_exporter": "python",
   "pygments_lexer": "ipython3",
   "version": "3.9.12"
  }
 },
 "nbformat": 4,
 "nbformat_minor": 5
}
