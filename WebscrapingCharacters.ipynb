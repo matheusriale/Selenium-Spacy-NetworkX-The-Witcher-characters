{
 "cells": [
  {
   "cell_type": "markdown",
   "id": "6da138b0-bc52-4cba-8bfe-78da36a8d58f",
   "metadata": {},
   "source": [
    "## Imports"
   ]
  },
  {
   "cell_type": "code",
   "execution_count": 2,
   "id": "60ce734b-95ca-47f4-a1ab-dd3363f7c01d",
   "metadata": {},
   "outputs": [],
   "source": [
    "import pandas as pd\n",
    "import time\n",
    "from selenium import webdriver\n",
    "from webdriver_manager.chrome import ChromeDriverManager\n",
    "from selenium.webdriver.common.by import By\n",
    "import matplotlib.pyplot as plt"
   ]
  },
  {
   "cell_type": "markdown",
   "id": "fc3c3e67-0bd6-416c-af44-48905c5271de",
   "metadata": {},
   "source": [
    "## Full Code"
   ]
  },
  {
   "cell_type": "code",
   "execution_count": 3,
   "id": "b53a77af-dab3-4a47-ac0a-75184a093017",
   "metadata": {},
   "outputs": [
    {
     "name": "stderr",
     "output_type": "stream",
     "text": [
      "C:\\Users\\xyux2\\AppData\\Local\\Temp\\ipykernel_9812\\2405396281.py:2: DeprecationWarning: executable_path has been deprecated, please pass in a Service object\n",
      "  driver = webdriver.Chrome(ChromeDriverManager().install())\n"
     ]
    }
   ],
   "source": [
    "#Create driver\n",
    "driver = webdriver.Chrome(ChromeDriverManager().install())\n",
    "\n",
    "#Go to the characters in books page\n",
    "page_url = \"https://witcher.fandom.com/wiki/Category:Characters_in_the_stories\"\n",
    "driver.get(page_url)\n",
    "\n",
    "#Click on Accept ('Aceitar' in portuguese)\n",
    "time.sleep(3) #wait to render all elements\n",
    "driver.find_element(By.XPATH, '//div[text()=\"ACEITAR\"]').click()\n",
    "\n",
    "#Find books\n",
    "book_categories = driver.find_elements(by = By.CLASS_NAME,value = 'category-page__member-link')\n",
    "\n",
    "books = []\n",
    "for category in book_categories:\n",
    "    book_url = category.get_attribute('href')\n",
    "    book_name = category.text\n",
    "    books.append({'book_name':book_name,'url':book_url})"
   ]
  },
  {
   "cell_type": "code",
   "execution_count": 4,
   "id": "a6724553-513d-4e8d-bdf0-f7222626847a",
   "metadata": {},
   "outputs": [],
   "source": [
    "character_list = []\n",
    "\n",
    "for book in books:\n",
    "    #go to book page\n",
    "    driver.get(book['url'])\n",
    "    character_elems = driver.find_elements(by = By.CLASS_NAME,value = 'category-page__member-link')\n",
    "    \n",
    "    for elem in character_elems:\n",
    "        character_list.append({'book':book['book_name'],'character':elem.text})"
   ]
  },
  {
   "cell_type": "markdown",
   "id": "fd16c99e-b5fd-4320-ad5d-fbc81a19504a",
   "metadata": {},
   "source": [
    "## Checking the head of our df and Number of characters per book"
   ]
  },
  {
   "cell_type": "code",
   "execution_count": 6,
   "id": "bafa4196-45f5-46e4-92a7-a16e2599caa0",
   "metadata": {},
   "outputs": [
    {
     "data": {
      "text/html": [
       "<div>\n",
       "<style scoped>\n",
       "    .dataframe tbody tr th:only-of-type {\n",
       "        vertical-align: middle;\n",
       "    }\n",
       "\n",
       "    .dataframe tbody tr th {\n",
       "        vertical-align: top;\n",
       "    }\n",
       "\n",
       "    .dataframe thead th {\n",
       "        text-align: right;\n",
       "    }\n",
       "</style>\n",
       "<table border=\"1\" class=\"dataframe\">\n",
       "  <thead>\n",
       "    <tr style=\"text-align: right;\">\n",
       "      <th></th>\n",
       "      <th>book</th>\n",
       "      <th>character</th>\n",
       "    </tr>\n",
       "  </thead>\n",
       "  <tbody>\n",
       "    <tr>\n",
       "      <th>0</th>\n",
       "      <td>Category:Baptism of Fire characters</td>\n",
       "      <td>Adalia</td>\n",
       "    </tr>\n",
       "    <tr>\n",
       "      <th>1</th>\n",
       "      <td>Category:Baptism of Fire characters</td>\n",
       "      <td>Adela</td>\n",
       "    </tr>\n",
       "    <tr>\n",
       "      <th>2</th>\n",
       "      <td>Category:Baptism of Fire characters</td>\n",
       "      <td>Aen Saevherne</td>\n",
       "    </tr>\n",
       "    <tr>\n",
       "      <th>3</th>\n",
       "      <td>Category:Baptism of Fire characters</td>\n",
       "      <td>Aevenien</td>\n",
       "    </tr>\n",
       "    <tr>\n",
       "      <th>4</th>\n",
       "      <td>Category:Baptism of Fire characters</td>\n",
       "      <td>Aglaïs</td>\n",
       "    </tr>\n",
       "  </tbody>\n",
       "</table>\n",
       "</div>"
      ],
      "text/plain": [
       "                                  book      character\n",
       "0  Category:Baptism of Fire characters         Adalia\n",
       "1  Category:Baptism of Fire characters          Adela\n",
       "2  Category:Baptism of Fire characters  Aen Saevherne\n",
       "3  Category:Baptism of Fire characters       Aevenien\n",
       "4  Category:Baptism of Fire characters         Aglaïs"
      ]
     },
     "execution_count": 6,
     "metadata": {},
     "output_type": "execute_result"
    }
   ],
   "source": [
    "character_df = pd.DataFrame(character_list)\n",
    "character_df.head()"
   ]
  },
  {
   "cell_type": "code",
   "execution_count": 7,
   "id": "ce2d4568-ace1-4b2a-8448-d66aa0d872fe",
   "metadata": {},
   "outputs": [
    {
     "data": {
      "text/plain": [
       "<AxesSubplot:>"
      ]
     },
     "execution_count": 7,
     "metadata": {},
     "output_type": "execute_result"
    },
    {
     "data": {
      "image/png": "[encoded data removed]",
      "text/plain": [
       "<Figure size 432x288 with 1 Axes>"
      ]
     },
     "metadata": {
      "needs_background": "light"
     },
     "output_type": "display_data"
    }
   ],
   "source": [
    "character_df['book'].value_counts().plot(kind=\"bar\")"
   ]
  }
 ],
 "metadata": {
  "kernelspec": {
   "display_name": "Python 3 (ipykernel)",
   "language": "python",
   "name": "python3"
  },
  "language_info": {
   "codemirror_mode": {
    "name": "ipython",
    "version": 3
   },
   "file_extension": ".py",
   "mimetype": "text/x-python",
   "name": "python",
   "nbconvert_exporter": "python",
   "pygments_lexer": "ipython3",
   "version": "3.9.12"
  }
 },
 "nbformat": 4,
 "nbformat_minor": 5
}
